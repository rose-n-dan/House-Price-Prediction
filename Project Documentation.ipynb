{
 "cells": [
  {
   "cell_type": "markdown",
   "metadata": {},
   "source": [
    "# Predykcja cen nieruchomości oparta na modelu maszyny wektorów nośnych"
   ]
  },
  {
   "cell_type": "markdown",
   "metadata": {},
   "source": [
    "## Wstęp"
   ]
  },
  {
   "cell_type": "markdown",
   "metadata": {},
   "source": [
    "Dokumentacja będzie skupiała się na rozwiązaniu problemu przewidywania cen nieruchomości z perspektywy potencjalnego kupującego oraz sprzedającego\n",
    "\n",
    "\n",
    "A house value is simply more than location and square footage. Like the features that make up a person, an educated party would want to know all aspects that give a house its value.\n",
    "\n",
    "We are going to take advantage of all of the feature variables available to use and use it to analyze and predict house prices.\n",
    "\n",
    "We are going to break everything into logical steps that allow us to ensure the cleanest, most realistic data for our model to make accurate predictions from.\n",
    "\n",
    "Load Data and Packages\n",
    "Analyzing the Test Variable (Sale Price)\n",
    "Multivariable Analysis\n",
    "Impute Missing Data and Clean Data\n",
    "Feature Transformation/Engineering\n",
    "Modeling and Predictions"
   ]
  }
 ],
 "metadata": {
  "kernelspec": {
   "display_name": "Python 3",
   "language": "python",
   "name": "python3"
  },
  "language_info": {
   "codemirror_mode": {
    "name": "ipython",
    "version": 3
   },
   "file_extension": ".py",
   "mimetype": "text/x-python",
   "name": "python",
   "nbconvert_exporter": "python",
   "pygments_lexer": "ipython3",
   "version": "3.6.7"
  }
 },
 "nbformat": 4,
 "nbformat_minor": 2
}
